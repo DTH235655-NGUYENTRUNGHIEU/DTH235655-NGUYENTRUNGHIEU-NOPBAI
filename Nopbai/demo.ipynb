{
 "cells": [
  {
   "cell_type": "markdown",
   "id": "c5af29e4",
   "metadata": {},
   "source": [
    "dang 1: caau1"
   ]
  },
  {
   "cell_type": "code",
   "execution_count": null,
   "id": "b4e27d0b",
   "metadata": {
    "vscode": {
     "languageId": "plaintext"
    }
   },
   "outputs": [],
   "source": [
    "print(\"demo \")"
   ]
  }
 ],
 "metadata": {
  "language_info": {
   "name": "python"
  }
 },
 "nbformat": 4,
 "nbformat_minor": 5
}
